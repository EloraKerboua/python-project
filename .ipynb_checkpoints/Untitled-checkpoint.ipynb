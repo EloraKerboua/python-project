{
 "cells": [
  {
   "cell_type": "code",
   "execution_count": 8,
   "id": "8d8c1761-1c5e-4a4f-8a33-5ffb590ed136",
   "metadata": {},
   "outputs": [
    {
     "name": "stdin",
     "output_type": "stream",
     "text": [
      "enter the time in seconds: 3\n"
     ]
    },
    {
     "name": "stdout",
     "output_type": "stream",
     "text": [
      "3\n",
      "2\n",
      "1\n",
      "TIME'S UP !\n"
     ]
    }
   ],
   "source": [
    "import time\n",
    "my_time = int(input('enter the time in seconds:'))\n",
    "for x in range(my_time, 0, -1):\n",
    "    print(x)\n",
    "    time.sleep(1)\n",
    "print(\"TIME'S UP !\")\n",
    "    "
   ]
  },
  {
   "cell_type": "code",
   "execution_count": 9,
   "id": "3c42a4ca-6d80-4df6-8ead-dd0f208ede13",
   "metadata": {},
   "outputs": [
    {
     "name": "stdout",
     "output_type": "stream",
     "text": [
      "3\n",
      "2\n",
      "1\n",
      "TIME'S UP !\n"
     ]
    }
   ],
   "source": [
    "import time\n",
    "\n",
    "for x in range(3, 0, -1):\n",
    "    print(x)\n",
    "    time.sleep(1)\n",
    "print(\"TIME'S UP !\")"
   ]
  },
  {
   "cell_type": "code",
   "execution_count": 10,
   "id": "6d0bbed8-8172-47d1-b1dd-22f45b9ff2f4",
   "metadata": {},
   "outputs": [
    {
     "name": "stdout",
     "output_type": "stream",
     "text": [
      "start time\n",
      "1713471160.6527634\n"
     ]
    },
    {
     "name": "stdin",
     "output_type": "stream",
     "text": [
      "press enter to stop \n"
     ]
    },
    {
     "ename": "NameError",
     "evalue": "name 'tim' is not defined",
     "output_type": "error",
     "traceback": [
      "\u001b[1;31m---------------------------------------------------------------------------\u001b[0m",
      "\u001b[1;31mNameError\u001b[0m                                 Traceback (most recent call last)",
      "Cell \u001b[1;32mIn[10], line 6\u001b[0m\n\u001b[0;32m      4\u001b[0m \u001b[38;5;28mprint\u001b[39m(start_time)\n\u001b[0;32m      5\u001b[0m stopper\u001b[38;5;241m=\u001b[39m \u001b[38;5;28minput\u001b[39m(\u001b[38;5;124m'\u001b[39m\u001b[38;5;124mpress enter to stop\u001b[39m\u001b[38;5;124m'\u001b[39m)\n\u001b[1;32m----> 6\u001b[0m end_time \u001b[38;5;241m=\u001b[39m tim\u001b[38;5;241m.\u001b[39mtime()\n",
      "\u001b[1;31mNameError\u001b[0m: name 'tim' is not defined"
     ]
    }
   ],
   "source": [
    "import time\n",
    "print('start time')\n",
    "start_time = time.time()\n",
    "print(start_time)\n",
    "stopper= input('press enter to stop')\n",
    "end_time = tim.time()\n"
   ]
  },
  {
   "cell_type": "code",
   "execution_count": 14,
   "id": "ef55cdd7-9b98-4048-b82e-b757e3ea43fa",
   "metadata": {},
   "outputs": [
    {
     "name": "stdout",
     "output_type": "stream",
     "text": [
      "5\n"
     ]
    }
   ],
   "source": [
    "import time\n",
    "time_limit = 5\n",
    "start_time = time.time()\n",
    "elapsed_time = time.time() - start_time\n",
    "print(time_limit - int(elapsed_time))\n",
    "if elapsed_time > time_limit :\n",
    "    print('GAME OVER')\n",
    "    exit()\n"
   ]
  },
  {
   "cell_type": "code",
   "execution_count": 16,
   "id": "92a17b9f-8128-42bc-9265-e1f3657fe0d8",
   "metadata": {},
   "outputs": [
    {
     "name": "stdin",
     "output_type": "stream",
     "text": [
      "enter the time in seconds: 60\n"
     ]
    },
    {
     "name": "stdout",
     "output_type": "stream",
     "text": [
      "00:00\n",
      "00:59\n",
      "00:58\n",
      "00:57\n",
      "00:56\n",
      "00:55\n",
      "00:54\n",
      "00:53\n",
      "00:52\n",
      "00:51\n",
      "00:50\n",
      "00:49\n",
      "00:48\n",
      "00:47\n",
      "00:46\n",
      "00:45\n",
      "00:44\n",
      "00:43\n",
      "00:42\n",
      "00:41\n",
      "00:40\n",
      "00:39\n",
      "00:38\n",
      "00:37\n",
      "00:36\n",
      "00:35\n",
      "00:34\n",
      "00:33\n",
      "00:32\n",
      "00:31\n",
      "00:30\n",
      "00:29\n",
      "00:28\n",
      "00:27\n",
      "00:26\n",
      "00:25\n",
      "00:24\n",
      "00:23\n",
      "00:22\n",
      "00:21\n",
      "00:20\n",
      "00:19\n",
      "00:18\n",
      "00:17\n",
      "00:16\n",
      "00:15\n",
      "00:14\n",
      "00:13\n",
      "00:12\n",
      "00:11\n",
      "00:10\n",
      "00:09\n",
      "00:08\n",
      "00:07\n",
      "00:06\n",
      "00:05\n",
      "00:04\n",
      "00:03\n",
      "00:02\n",
      "00:01\n",
      "TIME'S UP !\n"
     ]
    }
   ],
   "source": [
    "import time\n",
    "my_time = int(input('enter the time in seconds:'))\n",
    "for x in range(my_time, 0, -1):\n",
    "    seconds = x % 60\n",
    "    minutes = int(x/60)%60\n",
    "    hours = int(x/3600)\n",
    "    print(f'{hours:02}:{seconds:02}')\n",
    "    time.sleep(1)\n",
    "print(\"TIME'S UP !\")"
   ]
  },
  {
   "cell_type": "code",
   "execution_count": 21,
   "id": "738e3c1d-d228-449b-9923-1b0cdbebf191",
   "metadata": {},
   "outputs": [],
   "source": [
    "import winsound\n",
    "frequency = 1500  # Set Frequency To 2500 Hertz\n",
    "duration = 1000 # Set Duration To 1000 ms == 1 second\n",
    "winsound.Beep(frequency, duration)"
   ]
  },
  {
   "cell_type": "code",
   "execution_count": 11,
   "id": "5849d495-0de8-40fc-bc08-0d983b154b27",
   "metadata": {},
   "outputs": [
    {
     "ename": "ModuleNotFoundError",
     "evalue": "No module named 'pydub'",
     "output_type": "error",
     "traceback": [
      "\u001b[1;31m---------------------------------------------------------------------------\u001b[0m",
      "\u001b[1;31mModuleNotFoundError\u001b[0m                       Traceback (most recent call last)",
      "Cell \u001b[1;32mIn[11], line 2\u001b[0m\n\u001b[0;32m      1\u001b[0m \u001b[38;5;66;03m# import required module\u001b[39;00m\n\u001b[1;32m----> 2\u001b[0m \u001b[38;5;28;01mfrom\u001b[39;00m \u001b[38;5;21;01mpydub\u001b[39;00m \u001b[38;5;28;01mimport\u001b[39;00m AudioSegment\n\u001b[0;32m      3\u001b[0m \u001b[38;5;28;01mfrom\u001b[39;00m \u001b[38;5;21;01mpydub\u001b[39;00m\u001b[38;5;21;01m.\u001b[39;00m\u001b[38;5;21;01mplayback\u001b[39;00m \u001b[38;5;28;01mimport\u001b[39;00m play\n\u001b[0;32m      5\u001b[0m \u001b[38;5;66;03m# for playing mp3 file\u001b[39;00m\n",
      "\u001b[1;31mModuleNotFoundError\u001b[0m: No module named 'pydub'"
     ]
    }
   ],
   "source": [
    "\n",
    "# import required module\n",
    "from pydub import AudioSegment\n",
    "from pydub.playback import play\n",
    " \n",
    "# for playing mp3 file\n",
    "song = AudioSegment.from_mp3(\"note.mp3\")\n",
    "print('playing sound using  pydub')\n",
    "play(song)"
   ]
  },
  {
   "cell_type": "code",
   "execution_count": null,
   "id": "dbe849a9-c012-4d23-9f13-f23d543e4b9e",
   "metadata": {},
   "outputs": [],
   "source": []
  }
 ],
 "metadata": {
  "kernelspec": {
   "display_name": "Python 3 (ipykernel)",
   "language": "python",
   "name": "python3"
  },
  "language_info": {
   "codemirror_mode": {
    "name": "ipython",
    "version": 3
   },
   "file_extension": ".py",
   "mimetype": "text/x-python",
   "name": "python",
   "nbconvert_exporter": "python",
   "pygments_lexer": "ipython3",
   "version": "3.11.7"
  }
 },
 "nbformat": 4,
 "nbformat_minor": 5
}
