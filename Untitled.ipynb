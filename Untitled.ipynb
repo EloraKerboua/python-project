{
 "cells": [
  {
   "cell_type": "code",
   "execution_count": 8,
   "id": "8d8c1761-1c5e-4a4f-8a33-5ffb590ed136",
   "metadata": {},
   "outputs": [
    {
     "name": "stdin",
     "output_type": "stream",
     "text": [
      "enter the time in seconds: 3\n"
     ]
    },
    {
     "name": "stdout",
     "output_type": "stream",
     "text": [
      "3\n",
      "2\n",
      "1\n",
      "TIME'S UP !\n"
     ]
    }
   ],
   "source": [
    "import time\n",
    "my_time = int(input('enter the time in seconds:'))\n",
    "for x in range(my_time, 0, -1):\n",
    "    print(x)\n",
    "    time.sleep(1)\n",
    "print(\"TIME'S UP !\")\n",
    "    "
   ]
  },
  {
   "cell_type": "code",
   "execution_count": 9,
   "id": "3c42a4ca-6d80-4df6-8ead-dd0f208ede13",
   "metadata": {},
   "outputs": [
    {
     "name": "stdout",
     "output_type": "stream",
     "text": [
      "3\n",
      "2\n",
      "1\n",
      "TIME'S UP !\n"
     ]
    }
   ],
   "source": [
    "import time\n",
    "\n",
    "for x in range(3, 0, -1):\n",
    "    print(x)\n",
    "    time.sleep(1)\n",
    "print(\"TIME'S UP !\")"
   ]
  },
  {
   "cell_type": "code",
   "execution_count": 10,
   "id": "6d0bbed8-8172-47d1-b1dd-22f45b9ff2f4",
   "metadata": {},
   "outputs": [
    {
     "name": "stdout",
     "output_type": "stream",
     "text": [
      "start time\n",
      "1713471160.6527634\n"
     ]
    },
    {
     "name": "stdin",
     "output_type": "stream",
     "text": [
      "press enter to stop \n"
     ]
    },
    {
     "ename": "NameError",
     "evalue": "name 'tim' is not defined",
     "output_type": "error",
     "traceback": [
      "\u001b[1;31m---------------------------------------------------------------------------\u001b[0m",
      "\u001b[1;31mNameError\u001b[0m                                 Traceback (most recent call last)",
      "Cell \u001b[1;32mIn[10], line 6\u001b[0m\n\u001b[0;32m      4\u001b[0m \u001b[38;5;28mprint\u001b[39m(start_time)\n\u001b[0;32m      5\u001b[0m stopper\u001b[38;5;241m=\u001b[39m \u001b[38;5;28minput\u001b[39m(\u001b[38;5;124m'\u001b[39m\u001b[38;5;124mpress enter to stop\u001b[39m\u001b[38;5;124m'\u001b[39m)\n\u001b[1;32m----> 6\u001b[0m end_time \u001b[38;5;241m=\u001b[39m tim\u001b[38;5;241m.\u001b[39mtime()\n",
      "\u001b[1;31mNameError\u001b[0m: name 'tim' is not defined"
     ]
    }
   ],
   "source": [
    "import time\n",
    "print('start time')\n",
    "start_time = time.time()\n",
    "print(start_time)\n",
    "stopper= input('press enter to stop')\n",
    "end_time = tim.time()\n"
   ]
  },
  {
   "cell_type": "code",
   "execution_count": 14,
   "id": "ef55cdd7-9b98-4048-b82e-b757e3ea43fa",
   "metadata": {},
   "outputs": [
    {
     "name": "stdout",
     "output_type": "stream",
     "text": [
      "5\n"
     ]
    }
   ],
   "source": [
    "import time\n",
    "time_limit = 5\n",
    "start_time = time.time()\n",
    "elapsed_time = time.time() - start_time\n",
    "print(time_limit - int(elapsed_time))\n",
    "if elapsed_time > time_limit :\n",
    "    print('GAME OVER')\n",
    "    exit()\n"
   ]
  },
  {
   "cell_type": "code",
   "execution_count": null,
   "id": "92a17b9f-8128-42bc-9265-e1f3657fe0d8",
   "metadata": {},
   "outputs": [],
   "source": []
  }
 ],
 "metadata": {
  "kernelspec": {
   "display_name": "Python 3 (ipykernel)",
   "language": "python",
   "name": "python3"
  },
  "language_info": {
   "codemirror_mode": {
    "name": "ipython",
    "version": 3
   },
   "file_extension": ".py",
   "mimetype": "text/x-python",
   "name": "python",
   "nbconvert_exporter": "python",
   "pygments_lexer": "ipython3",
   "version": "3.11.7"
  }
 },
 "nbformat": 4,
 "nbformat_minor": 5
}
